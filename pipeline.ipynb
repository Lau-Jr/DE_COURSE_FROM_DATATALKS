{
 "cells": [
  {
   "cell_type": "code",
   "execution_count": null,
   "id": "a6abeece",
   "metadata": {},
   "outputs": [],
   "source": [
    "from sqlalchemy import create_engine\n",
    "import pandas as pd"
   ]
  },
  {
   "cell_type": "code",
   "execution_count": null,
   "id": "ec46aa69",
   "metadata": {},
   "outputs": [],
   "source": [
    "user = 'postgres'\n",
    "password = 'root'\n",
    "db = 'NYC_DATA'\n",
    "port = 5432\n",
    "server = 'localhost'\n",
    "\n",
    "conn = create_engine(f'postgresql://{user}:{password}@{server}:{port}/{db}').connect()"
   ]
  },
  {
   "cell_type": "code",
   "execution_count": null,
   "id": "33667fea",
   "metadata": {},
   "outputs": [],
   "source": [
    "nyc_data_df = pd.read_parquet('./yellow_tripdata_2021-01.parquet')"
   ]
  },
  {
   "cell_type": "code",
   "execution_count": null,
   "id": "57fc7de8",
   "metadata": {},
   "outputs": [],
   "source": [
    "nyc_data_df.head()"
   ]
  },
  {
   "cell_type": "code",
   "execution_count": null,
   "id": "985a8a04",
   "metadata": {},
   "outputs": [],
   "source": [
    "# getting schema from dataframe\n",
    "print(pd.io.sql.get_schema(nyc_data_df,'nyc_data',con=conn))"
   ]
  },
  {
   "cell_type": "code",
   "execution_count": null,
   "id": "73cf62e3",
   "metadata": {},
   "outputs": [],
   "source": [
    "sql_query = \"select * from public.NYC_data\"\n",
    "conn.execute(sql_query).fetchall()\n",
    "# we can put some exclusion to exclude builtin tables"
   ]
  },
  {
   "cell_type": "code",
   "execution_count": 34,
   "id": "91a34035",
   "metadata": {},
   "outputs": [
    {
     "data": {
      "text/plain": [
       "769"
      ]
     },
     "execution_count": 34,
     "metadata": {},
     "output_type": "execute_result"
    }
   ],
   "source": [
    "# getting first row(header) and create table from it.\n",
    "\n",
    "header = nyc_data_df.head(0)\n",
    "nyc_data_df.to_sql(name = 'NYC_data',con = conn,if_exists='replace')\n"
   ]
  },
  {
   "cell_type": "code",
   "execution_count": 35,
   "id": "340a37bd",
   "metadata": {},
   "outputs": [
    {
     "data": {
      "text/plain": [
       "1369769"
      ]
     },
     "execution_count": 35,
     "metadata": {},
     "output_type": "execute_result"
    }
   ],
   "source": []
  }
 ],
 "metadata": {
  "kernelspec": {
   "display_name": "Python 3 (ipykernel)",
   "language": "python",
   "name": "python3"
  },
  "language_info": {
   "codemirror_mode": {
    "name": "ipython",
    "version": 3
   },
   "file_extension": ".py",
   "mimetype": "text/x-python",
   "name": "python",
   "nbconvert_exporter": "python",
   "pygments_lexer": "ipython3",
   "version": "3.10.9"
  }
 },
 "nbformat": 4,
 "nbformat_minor": 5
}
